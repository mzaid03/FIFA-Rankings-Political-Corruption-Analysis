{
 "cells": [
  {
   "cell_type": "markdown",
   "metadata": {},
   "source": [
    "# COGS 108 - Project Proposal"
   ]
  },
  {
   "cell_type": "markdown",
   "metadata": {},
   "source": [
    "# Names\n",
    "\n",
    "- Adey Ali\n",
    "- Makeil Ali\n",
    "- Ayat Alwazir\n",
    "- Asaki Billawala\n",
    "- Mohammed Zaid"
   ]
  },
  {
   "cell_type": "markdown",
   "metadata": {},
   "source": [
    "# Research Question"
   ]
  },
  {
   "cell_type": "markdown",
   "metadata": {},
   "source": [
    "How does political corruption influence the development of national football teams, and are countries with stronger institutions more likely to succeed in international tournaments over time?"
   ]
  },
  {
   "cell_type": "markdown",
   "metadata": {},
   "source": [
    "## Background and Prior Work"
   ]
  },
  {
   "cell_type": "markdown",
   "metadata": {},
   "source": [
    "The participation of a national team in international competitions evoke a sense of unity and national pride among its citizens. As one of the most widely followed global sports with audiences in the billions,<a name=\"cite_ref-1\"></a>[<sup>1</sup>](#cite_note-1) football serves as a prominent platform through which these sentiments are reinforced and expressed. Major tournaments such as FIFA World Cup and regional tournaments like the UEFA European Championship or the Copa America become a major platform for nations to broadcast their athletic capacities, reaffirm their collective identity and establish their international standing. On the world stage, international and national reputation is at stake, making football more of a symbolic representation of a country’s strength. Given the symbolic weight that international football carries, it is no surprise that governments invest heavily in football for reputation’s sake. In our analysis we hope to explore how corruption perceptions–determined by Corruption Perceptions Index (CPI), press freedom index (PFI)–may impact football performance outcomes like the FIFA World rankings and World Cup appearances.\n",
    "\n",
    "\n",
    "A recent analysis done by The University of Chicago Press Journal, introduces the term sportswashing,<a name=\"cite_ref-2\"></a>[<sup>2</sup>](#cite_note-2) as the process by which countries use sports to improve negative public perceptions often associated with a government’s abuses of human rights. In their case study of Qatar hosting the 2022 FIFA World Cup, they sought to find the viability of sportswashing. Their research suggests that hosting events such as the world cup “led to a more favorable view of the Arab world” but did little to directly improve Qatar’s image. This research is highly relevant to our research as it highlights the political motivations behind a country’s involvement in sports. Similarly a report done by the Human Rights Foundation, delves into the mechanisms through which authoritarian regimes utilize international sports to improve reputation and divert attention from negative press.<a name=\"cite_ref-3\"></a>[<sup>3</sup>](#cite_note-3)\n",
    "\n",
    "\n",
    "A recent empirical study published investigated the correlation between funding and performance success among European football clubs. This paper analyzed 59 European football companies over the 2013-2018 time span and found a significant positive correlation between financial performance and the success of the club.<a name=\"cite_ref-4\"></a>[<sup>4</sup>](#cite_note-4) This provides valuable insight into the influence finance has on sport performance. Our research hopes to build upon these findings to see how factors such as funding intersect with corruption and performance success.\n",
    "While these reports provide valuable insight of the use of “sportswashing” by autocratic regimes, neither explicitly test the whether the corruption level of a country directly translates to a better overall performance in international football. Prior work informs the political context of our study but does not directly address our question: does political corruption influence the development of national football teams\n",
    "\n",
    "\n",
    "References:\n",
    "1. <a name=\"cite_note-1\"></a> [^](#cite_ref-1) Library of Congress. (n.d.). Soccer: Sports industry resources. Retrieved April 29, 2025, from https://guides.loc.gov/sports-industry/soccer\n",
    "2. <a name=\"cite_note-2\"></a> [^](#cite_ref-2) Reiche, D. (2023). Authoritarian regimes and international sport: The politics of sportswashing. Journal of Political Institutions and Political Economy, 4(2), 147–172. https://www.journals.uchicago.edu/doi/full/10.1086/730728\n",
    "3. <a name=\"cite_note-3\"></a> [^](#cite_ref-3) Human Rights Foundation. (2023). Igniting the truth against authoritarian sportswashing. Retrieved from https://hrf.org/latest/ igniting-the-truth-against-authoritarian-sportswashing/\n",
    "4. <a name=\"cite_note-4\"></a> [^](#cite_ref-4) Simone, Luca Di. Zanardi, Davide (2021). Sport and finance: Is there a correlation between financial and sporting performance? Evidence from European football. Managerial  Finance, https://www.emerald.com/insight/content/doi/10.1108/mf-09-2020-0478/full/html"
   ]
  },
  {
   "cell_type": "markdown",
   "metadata": {},
   "source": [
    "# Hypothesis\n"
   ]
  },
  {
   "cell_type": "markdown",
   "metadata": {},
   "source": [
    "Countries with higher levels of political corruption experience slower development and a lower performance on their national football teams, whereas countries with stronger political institutions are to show consistent success or improvement over time."
   ]
  },
  {
   "cell_type": "markdown",
   "metadata": {},
   "source": [
    "# Data"
   ]
  },
  {
   "cell_type": "markdown",
   "metadata": {},
   "source": [
    "An ideal dataset to analyze the relationship between corruption and national football team performance would be one that includes these variables over time (years):\n",
    "- Country\n",
    "- CPI score (corruption perception index)\n",
    "- PFI score (press freedom index)\n",
    "- FIFA Ranking\n",
    "- World Cup performance\n",
    "- GDP per capita\n",
    "- Government sports investment\n",
    "\n",
    "We could observe data from roughly 1995/2002 to 2024 to analyze the trend over time. We would ideally cover all countries with the available data, nations that are FIFA members. We can collect the data from historical data archives and organize it as a CSV file with each row being a country observation in a specific year.\n",
    "\n",
    "The data for the variables we will be investigating can be found, but some do require cleaning.\n",
    "- CPI score: Transparency International (since 1995 onwards)\n",
    "- PFI score: Reporters Without Borders (since 2002 onwards)\n",
    "- FIFA rankings: FIFA or Kaggle\n",
    "- Word Cup Performance: Wikipedia\n",
    "- GDP per capita: World Bank\n",
    "\n",
    "Government sports investment: limited sources, requires extra research to see if its gettable; may need to be done manually\n"
   ]
  },
  {
   "cell_type": "markdown",
   "metadata": {},
   "source": [
    "# Ethics & Privacy"
   ]
  },
  {
   "cell_type": "markdown",
   "metadata": {},
   "source": [
    "- In the data that we have proposed, we will be using data directly from FIFA for some of the data. Getting data directly from the source of what we are trying to analyze, I believe, will make our data more reliable. We might have to look into where exactly the data we use from Wikipedia for the World Cup performance is directly coming from. Because data from Wikipedia can be edited, that is something we are going to have to consider; we could potentially get that data from a different avenue. \n",
    "- In order to make sure that our data doesn’t contain any bias, or to make sure there aren't any ethical concerns. We will make sure that all website and data files we upload into our project have credibility. This includes making sure that the data was not potentially edited by anyone, as well as making sure the publishers of the data are credible sources within the field we are interested in exploring the data from. To the best of our ability, we can also get data directly from sources, such as the FIFA World Cup website and as well as government official websites, to get data about corruption statistics within countries. We can also make sure to use multiple different sources and cross-reference data to make sure that everything aligns correctly. In the process of analyzing the data, we will also make it clear about the limitations that we encountered when trying to collect data, if any.\n"
   ]
  },
  {
   "cell_type": "markdown",
   "metadata": {},
   "source": [
    "# Team Expectations "
   ]
  },
  {
   "cell_type": "markdown",
   "metadata": {},
   "source": [
    "- Primary mode of communication with be through text message\n",
    "- Everyone is responsible for completing their assigned tasks\n",
    "- If a team member doesn’t think they will get their task done on time or if there is some sort of conflict they will communicate the rest of the team as soon as possible\n",
    "- Everyone should attend all meetings unless communicated otherwise from before\n",
    "- Everyone should use credible sources and not make up any information used in the project.\n",
    "Try and follow the timeline to their best ability so we don't fall behind"
   ]
  },
  {
   "cell_type": "markdown",
   "metadata": {},
   "source": [
    "# Project Timeline Proposal"
   ]
  },
  {
   "cell_type": "markdown",
   "metadata": {},
   "source": [
    "| Meeting Date  | Meeting Time| Completed Before Meeting  | Discuss at Meeting |\n",
    "|---|---|---|---|\n",
    "| 4/29  |  10 AM  | Brainstorm project ideas for project proposal  | Finalize project topic (corruption & football); assign roles for project proposal | \n",
    "| 4/30  |  11 AM  |  Background research; gather examples of corruption in football & policy | Discuss hypothesis, ethical concerns, and ideal dataset structure; submit proposal | \n",
    "| 5/5  | 2 PM  | Begin data wrangling (CPI, PFI, FIFA, World Cup, GDP); clean & align formats  | Review merged data; draft EDA visuals; plan modeling approach   |\n",
    "| 5/14  | 10 AM  | Finish wrangling | Review wrangling; submit checkpoint; discuss EDA further   |\n",
    "| 5/27  | 12 PM  | Work on data analysis | Review analysis; submit checkpoint |\n",
    "| 6/8  | 12 PM  | Draft results, conclusions, and discussion sections | Review sections; draft video and record |\n",
    "| 6/13  | Before 11:59 PM  | Final edits and proofreading | Submit final project and video, complete group project surveys and post-course survey |"
   ]
  }
 ],
 "metadata": {
  "kernelspec": {
   "display_name": "Python 3 (ipykernel)",
   "language": "python",
   "name": "python3"
  },
  "language_info": {
   "codemirror_mode": {
    "name": "ipython",
    "version": 3
   },
   "file_extension": ".py",
   "mimetype": "text/x-python",
   "name": "python",
   "nbconvert_exporter": "python",
   "pygments_lexer": "ipython3",
   "version": "3.11.9"
  }
 },
 "nbformat": 4,
 "nbformat_minor": 4
}
